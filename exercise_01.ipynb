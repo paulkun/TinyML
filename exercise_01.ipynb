{
  "nbformat": 4,
  "nbformat_minor": 0,
  "metadata": {
    "colab": {
      "name": "exercise_01.ipynb",
      "private_outputs": true,
      "provenance": [],
      "collapsed_sections": [],
      "authorship_tag": "ABX9TyPKbqrFpGMJH3yqOOrErx2S",
      "include_colab_link": true
    },
    "kernelspec": {
      "name": "python3",
      "display_name": "Python 3"
    },
    "language_info": {
      "name": "python"
    }
  },
  "cells": [
    {
      "cell_type": "markdown",
      "metadata": {
        "id": "view-in-github",
        "colab_type": "text"
      },
      "source": [
        "<a href=\"https://colab.research.google.com/github/paulkun/TinyML/blob/main/exercise_01.ipynb\" target=\"_parent\"><img src=\"https://colab.research.google.com/assets/colab-badge.svg\" alt=\"Open In Colab\"/></a>"
      ]
    },
    {
      "cell_type": "markdown",
      "metadata": {
        "id": "5NIfUVaSa92G"
      },
      "source": [
        "라이브러리를 임포트"
      ]
    },
    {
      "cell_type": "code",
      "metadata": {
        "id": "SAQ5DY8AalbO"
      },
      "source": [
        "# 텐서플로우\n",
        "import tensorflow as tf\n",
        "# 넘파이(Numpy)는 수학 연산에 추가적으로 필요한 라이브러리이다. \n",
        "import numpy as np\n",
        "# Matplotlib은 그래프를 그리는데 필요한 라이브러리이다. \n",
        "import matplotlib.pyplot as plt\n",
        "# math는 파이썬의 수학 라이브러리이다. \n",
        "import math"
      ],
      "execution_count": null,
      "outputs": []
    },
    {
      "cell_type": "markdown",
      "metadata": {
        "id": "k511YPBJbFAC"
      },
      "source": [
        "\n",
        "np.arange(), np.random(), np.sin() 사용"
      ]
    },
    {
      "cell_type": "code",
      "metadata": {
        "id": "u7nRGJShaavG"
      },
      "source": [
        "#0~2pi까지 0.1간격으로 생성0~2pi까지 0.1간격으로 생성\n",
        "x = np.arange(0.0, 2*math.pi, 0.1)\n",
        "#print(x)\n",
        "\n",
        "# x값을 섞는다.\n",
        "np.random.shuffle(x)\n",
        "#print(x)\n",
        "\n",
        "y=np.sin(x)\n",
        "plt.plot(x,y,'b.')\n",
        "plt.show()"
      ],
      "execution_count": null,
      "outputs": []
    },
    {
      "cell_type": "markdown",
      "metadata": {
        "id": "qXIAdBPAbPZF"
      },
      "source": [
        "\n",
        "ㅇ 각각의 배열을 합치기. \n",
        "ㅇ 전치행렬 변환"
      ]
    },
    {
      "cell_type": "code",
      "metadata": {
        "id": "D0xhaIv8ah2i"
      },
      "source": [
        "# 배열 만들기\n",
        "x1 = np.arange(5)\n",
        "y1 = np.random.rand(5)\n",
        "\n",
        "# 합친 후 행렬 전치\n",
        "np1 = np.stack((x1,y1)).T\n",
        "print(np1)"
      ],
      "execution_count": null,
      "outputs": []
    },
    {
      "cell_type": "markdown",
      "metadata": {
        "id": "QO9hleTccMmo"
      },
      "source": [
        "ㅇ 소트"
      ]
    },
    {
      "cell_type": "code",
      "metadata": {
        "id": "fme_aQMIcLrn"
      },
      "source": [
        "x2 = np.arange(5)\n",
        "print(\"arange:  x2= \",x2)\n",
        "\n",
        "#배열을 섞는다.\n",
        "np.random.shuffle(x2)\n",
        "print(\"shuffle: x2= \", x2)\n",
        "\n",
        "#원래 배열은 그대로 두고 정렬된 배열값을 리턴\n",
        "x2_=np.sort(x2)\n",
        "print(\"sort:   x2_= \",x2_, end='  ')\n",
        "print(\"sort: x2= \",x2)\n",
        "\n",
        "#배열자체를 정렬\n",
        "x2.sort()\n",
        "print(\"x.sort():x2= \",x2)\n",
        "\n",
        "#random.rand() 0-1사이의 균일 분포에서 난수 matrix array생성\n",
        "y2 = np.random.rand(5)\n",
        "print(\"rand: y2= \",y2)\n",
        "\n",
        "# 두 개의 배열을 합친다\n",
        "st2 = np.stack((x2,y2))\n",
        "print(\"\\nst2 = \\n\", st2)\n",
        "\n",
        "#전치행렬\n",
        "st2_T = np.stack((x2,y2)).T\n",
        "print(\"\\nst2.T = \\n\", st2_T)\n"
      ],
      "execution_count": null,
      "outputs": []
    }
  ]
}